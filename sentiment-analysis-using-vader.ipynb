{
 "cells": [
  {
   "cell_type": "code",
   "execution_count": 1,
   "id": "f3c3f9a8",
   "metadata": {
    "execution": {
     "iopub.execute_input": "2025-03-09T20:52:16.692671Z",
     "iopub.status.busy": "2025-03-09T20:52:16.692228Z",
     "iopub.status.idle": "2025-03-09T20:52:17.561449Z",
     "shell.execute_reply": "2025-03-09T20:52:17.560382Z"
    },
    "papermill": {
     "duration": 0.875878,
     "end_time": "2025-03-09T20:52:17.563399",
     "exception": false,
     "start_time": "2025-03-09T20:52:16.687521",
     "status": "completed"
    },
    "tags": []
   },
   "outputs": [],
   "source": [
    "import pandas as pd\n",
    "import numpy as np"
   ]
  },
  {
   "cell_type": "code",
   "execution_count": 2,
   "id": "0c026639",
   "metadata": {
    "execution": {
     "iopub.execute_input": "2025-03-09T20:52:17.571287Z",
     "iopub.status.busy": "2025-03-09T20:52:17.570803Z",
     "iopub.status.idle": "2025-03-09T20:52:25.080146Z",
     "shell.execute_reply": "2025-03-09T20:52:25.079080Z"
    },
    "papermill": {
     "duration": 7.515188,
     "end_time": "2025-03-09T20:52:25.082123",
     "exception": false,
     "start_time": "2025-03-09T20:52:17.566935",
     "status": "completed"
    },
    "tags": []
   },
   "outputs": [],
   "source": [
    "df=pd.read_csv(\"/kaggle/input/amazon-fine-food-reviews/Reviews.csv\")\n",
    "df_new=df.head(500)"
   ]
  },
  {
   "cell_type": "code",
   "execution_count": 3,
   "id": "c1277409",
   "metadata": {
    "execution": {
     "iopub.execute_input": "2025-03-09T20:52:25.089472Z",
     "iopub.status.busy": "2025-03-09T20:52:25.089143Z",
     "iopub.status.idle": "2025-03-09T20:52:25.101079Z",
     "shell.execute_reply": "2025-03-09T20:52:25.100019Z"
    },
    "papermill": {
     "duration": 0.017348,
     "end_time": "2025-03-09T20:52:25.102705",
     "exception": false,
     "start_time": "2025-03-09T20:52:25.085357",
     "status": "completed"
    },
    "tags": []
   },
   "outputs": [
    {
     "data": {
      "text/plain": [
       "0         I have bought several of the Vitality canned d...\n",
       "1         Product arrived labeled as Jumbo Salted Peanut...\n",
       "2         This is a confection that has been around a fe...\n",
       "3         If you are looking for the secret ingredient i...\n",
       "4         Great taffy at a great price.  There was a wid...\n",
       "                                ...                        \n",
       "568449    Great for sesame chicken..this is a good if no...\n",
       "568450    I'm disappointed with the flavor. The chocolat...\n",
       "568451    These stars are small, so you can give 10-15 o...\n",
       "568452    These are the BEST treats for training and rew...\n",
       "568453    I am very satisfied ,product is as advertised,...\n",
       "Name: Text, Length: 568454, dtype: object"
      ]
     },
     "execution_count": 3,
     "metadata": {},
     "output_type": "execute_result"
    }
   ],
   "source": [
    "df[\"Text\"]"
   ]
  },
  {
   "cell_type": "code",
   "execution_count": 4,
   "id": "17452ee1",
   "metadata": {
    "execution": {
     "iopub.execute_input": "2025-03-09T20:52:25.110398Z",
     "iopub.status.busy": "2025-03-09T20:52:25.110079Z",
     "iopub.status.idle": "2025-03-09T20:52:27.118793Z",
     "shell.execute_reply": "2025-03-09T20:52:27.117618Z"
    },
    "papermill": {
     "duration": 2.014758,
     "end_time": "2025-03-09T20:52:27.120832",
     "exception": false,
     "start_time": "2025-03-09T20:52:25.106074",
     "status": "completed"
    },
    "tags": []
   },
   "outputs": [],
   "source": [
    "from nltk.tokenize import word_tokenize\n",
    "from nltk import pos_tag\n",
    "from nltk.chunk import ne_chunk"
   ]
  },
  {
   "cell_type": "code",
   "execution_count": 5,
   "id": "333f5b0b",
   "metadata": {
    "execution": {
     "iopub.execute_input": "2025-03-09T20:52:27.128628Z",
     "iopub.status.busy": "2025-03-09T20:52:27.128136Z",
     "iopub.status.idle": "2025-03-09T20:52:27.396124Z",
     "shell.execute_reply": "2025-03-09T20:52:27.395050Z"
    },
    "papermill": {
     "duration": 0.273885,
     "end_time": "2025-03-09T20:52:27.398009",
     "exception": false,
     "start_time": "2025-03-09T20:52:27.124124",
     "status": "completed"
    },
    "tags": []
   },
   "outputs": [
    {
     "data": {
      "text/plain": [
       "<bound method Tree.pprint of Tree('S', [('I', 'PRP'), ('have', 'VBP'), ('bought', 'VBN'), ('several', 'JJ'), ('of', 'IN'), ('the', 'DT'), Tree('ORGANIZATION', [('Vitality', 'NNP')]), ('canned', 'VBD'), ('dog', 'RP'), ('food', 'NN'), ('products', 'NNS'), ('and', 'CC'), ('have', 'VBP'), ('found', 'VBN'), ('them', 'PRP'), ('all', 'DT'), ('to', 'TO'), ('be', 'VB'), ('of', 'IN'), ('good', 'JJ'), ('quality', 'NN'), ('.', '.'), ('The', 'DT'), ('product', 'NN'), ('looks', 'VBZ'), ('more', 'RBR'), ('like', 'IN'), ('a', 'DT'), ('stew', 'NN'), ('than', 'IN'), ('a', 'DT'), ('processed', 'JJ'), ('meat', 'NN'), ('and', 'CC'), ('it', 'PRP'), ('smells', 'VBZ'), ('better', 'RBR'), ('.', '.'), ('My', 'PRP$'), Tree('ORGANIZATION', [('Labrador', 'NNP')]), ('is', 'VBZ'), ('finicky', 'JJ'), ('and', 'CC'), ('she', 'PRP'), ('appreciates', 'VBZ'), ('this', 'DT'), ('product', 'NN'), ('better', 'JJR'), ('than', 'IN'), ('most', 'JJS'), ('.', '.')])>"
      ]
     },
     "execution_count": 5,
     "metadata": {},
     "output_type": "execute_result"
    }
   ],
   "source": [
    "example=pos_tag(word_tokenize(df['Text'].values[0]))\n",
    "ex=ne_chunk(example)\n",
    "ex.pprint"
   ]
  },
  {
   "cell_type": "code",
   "execution_count": 6,
   "id": "c6a441ee",
   "metadata": {
    "execution": {
     "iopub.execute_input": "2025-03-09T20:52:27.406019Z",
     "iopub.status.busy": "2025-03-09T20:52:27.405641Z",
     "iopub.status.idle": "2025-03-09T20:52:27.449636Z",
     "shell.execute_reply": "2025-03-09T20:52:27.448510Z"
    },
    "papermill": {
     "duration": 0.049902,
     "end_time": "2025-03-09T20:52:27.451293",
     "exception": false,
     "start_time": "2025-03-09T20:52:27.401391",
     "status": "completed"
    },
    "tags": []
   },
   "outputs": [
    {
     "name": "stderr",
     "output_type": "stream",
     "text": [
      "/usr/local/lib/python3.10/dist-packages/nltk/twitter/__init__.py:20: UserWarning: The twython library has not been installed. Some functionality from the twitter package will not be available.\n",
      "  warnings.warn(\"The twython library has not been installed. \"\n"
     ]
    },
    {
     "data": {
      "text/plain": [
       "<nltk.sentiment.vader.SentimentIntensityAnalyzer at 0x7dbc52fd9e70>"
      ]
     },
     "execution_count": 6,
     "metadata": {},
     "output_type": "execute_result"
    }
   ],
   "source": [
    "from nltk.sentiment import SentimentIntensityAnalyzer\n",
    "sia=SentimentIntensityAnalyzer()\n",
    "sia"
   ]
  },
  {
   "cell_type": "code",
   "execution_count": 7,
   "id": "5d7d0bc5",
   "metadata": {
    "execution": {
     "iopub.execute_input": "2025-03-09T20:52:27.459272Z",
     "iopub.status.busy": "2025-03-09T20:52:27.458943Z",
     "iopub.status.idle": "2025-03-09T20:52:27.486350Z",
     "shell.execute_reply": "2025-03-09T20:52:27.485398Z"
    },
    "papermill": {
     "duration": 0.033493,
     "end_time": "2025-03-09T20:52:27.488222",
     "exception": false,
     "start_time": "2025-03-09T20:52:27.454729",
     "status": "completed"
    },
    "tags": []
   },
   "outputs": [
    {
     "data": {
      "text/plain": [
       "tqdm.std.tqdm"
      ]
     },
     "execution_count": 7,
     "metadata": {},
     "output_type": "execute_result"
    }
   ],
   "source": [
    "from tqdm import tqdm\n",
    "tqdm"
   ]
  },
  {
   "cell_type": "code",
   "execution_count": 8,
   "id": "fc1bb748",
   "metadata": {
    "execution": {
     "iopub.execute_input": "2025-03-09T20:52:27.496436Z",
     "iopub.status.busy": "2025-03-09T20:52:27.496120Z",
     "iopub.status.idle": "2025-03-09T20:52:27.502580Z",
     "shell.execute_reply": "2025-03-09T20:52:27.501669Z"
    },
    "papermill": {
     "duration": 0.012371,
     "end_time": "2025-03-09T20:52:27.504268",
     "exception": false,
     "start_time": "2025-03-09T20:52:27.491897",
     "status": "completed"
    },
    "tags": []
   },
   "outputs": [
    {
     "data": {
      "text/plain": [
       "{'neg': 0.0, 'neu': 0.695, 'pos': 0.305, 'compound': 0.9441}"
      ]
     },
     "execution_count": 8,
     "metadata": {},
     "output_type": "execute_result"
    }
   ],
   "source": [
    "sia.polarity_scores(df.Text.values[0])"
   ]
  },
  {
   "cell_type": "code",
   "execution_count": 9,
   "id": "398add6a",
   "metadata": {
    "execution": {
     "iopub.execute_input": "2025-03-09T20:52:27.512466Z",
     "iopub.status.busy": "2025-03-09T20:52:27.512140Z",
     "iopub.status.idle": "2025-03-09T20:52:27.962066Z",
     "shell.execute_reply": "2025-03-09T20:52:27.960976Z"
    },
    "papermill": {
     "duration": 0.455892,
     "end_time": "2025-03-09T20:52:27.963826",
     "exception": false,
     "start_time": "2025-03-09T20:52:27.507934",
     "status": "completed"
    },
    "tags": []
   },
   "outputs": [
    {
     "name": "stderr",
     "output_type": "stream",
     "text": [
      "100%|██████████| 500/500 [00:00<00:00, 1134.18it/s]\n"
     ]
    }
   ],
   "source": [
    "res = {}\n",
    "for i, row in tqdm(df_new.iterrows(), total=len(df_new)):\n",
    "    text = row['Text']\n",
    "    myid = row['Id']\n",
    "    res[myid] = sia.polarity_scores(text)"
   ]
  },
  {
   "cell_type": "code",
   "execution_count": 10,
   "id": "9282c705",
   "metadata": {
    "execution": {
     "iopub.execute_input": "2025-03-09T20:52:27.973093Z",
     "iopub.status.busy": "2025-03-09T20:52:27.972752Z",
     "iopub.status.idle": "2025-03-09T20:52:27.986991Z",
     "shell.execute_reply": "2025-03-09T20:52:27.985874Z"
    },
    "papermill": {
     "duration": 0.020724,
     "end_time": "2025-03-09T20:52:27.988676",
     "exception": false,
     "start_time": "2025-03-09T20:52:27.967952",
     "status": "completed"
    },
    "tags": []
   },
   "outputs": [],
   "source": [
    "red=pd.DataFrame(res)"
   ]
  },
  {
   "cell_type": "code",
   "execution_count": 11,
   "id": "bc3d5ab3",
   "metadata": {
    "execution": {
     "iopub.execute_input": "2025-03-09T20:52:27.998144Z",
     "iopub.status.busy": "2025-03-09T20:52:27.997793Z",
     "iopub.status.idle": "2025-03-09T20:52:28.024928Z",
     "shell.execute_reply": "2025-03-09T20:52:28.023913Z"
    },
    "papermill": {
     "duration": 0.033592,
     "end_time": "2025-03-09T20:52:28.026478",
     "exception": false,
     "start_time": "2025-03-09T20:52:27.992886",
     "status": "completed"
    },
    "tags": []
   },
   "outputs": [
    {
     "data": {
      "text/html": [
       "<div>\n",
       "<style scoped>\n",
       "    .dataframe tbody tr th:only-of-type {\n",
       "        vertical-align: middle;\n",
       "    }\n",
       "\n",
       "    .dataframe tbody tr th {\n",
       "        vertical-align: top;\n",
       "    }\n",
       "\n",
       "    .dataframe thead th {\n",
       "        text-align: right;\n",
       "    }\n",
       "</style>\n",
       "<table border=\"1\" class=\"dataframe\">\n",
       "  <thead>\n",
       "    <tr style=\"text-align: right;\">\n",
       "      <th></th>\n",
       "      <th>neg</th>\n",
       "      <th>neu</th>\n",
       "      <th>pos</th>\n",
       "      <th>compound</th>\n",
       "    </tr>\n",
       "  </thead>\n",
       "  <tbody>\n",
       "    <tr>\n",
       "      <th>1</th>\n",
       "      <td>0.000</td>\n",
       "      <td>0.695</td>\n",
       "      <td>0.305</td>\n",
       "      <td>0.9441</td>\n",
       "    </tr>\n",
       "    <tr>\n",
       "      <th>2</th>\n",
       "      <td>0.079</td>\n",
       "      <td>0.853</td>\n",
       "      <td>0.068</td>\n",
       "      <td>-0.1027</td>\n",
       "    </tr>\n",
       "    <tr>\n",
       "      <th>3</th>\n",
       "      <td>0.091</td>\n",
       "      <td>0.754</td>\n",
       "      <td>0.155</td>\n",
       "      <td>0.8265</td>\n",
       "    </tr>\n",
       "    <tr>\n",
       "      <th>4</th>\n",
       "      <td>0.000</td>\n",
       "      <td>1.000</td>\n",
       "      <td>0.000</td>\n",
       "      <td>0.0000</td>\n",
       "    </tr>\n",
       "    <tr>\n",
       "      <th>5</th>\n",
       "      <td>0.000</td>\n",
       "      <td>0.552</td>\n",
       "      <td>0.448</td>\n",
       "      <td>0.9468</td>\n",
       "    </tr>\n",
       "    <tr>\n",
       "      <th>...</th>\n",
       "      <td>...</td>\n",
       "      <td>...</td>\n",
       "      <td>...</td>\n",
       "      <td>...</td>\n",
       "    </tr>\n",
       "    <tr>\n",
       "      <th>496</th>\n",
       "      <td>0.000</td>\n",
       "      <td>0.554</td>\n",
       "      <td>0.446</td>\n",
       "      <td>0.9725</td>\n",
       "    </tr>\n",
       "    <tr>\n",
       "      <th>497</th>\n",
       "      <td>0.059</td>\n",
       "      <td>0.791</td>\n",
       "      <td>0.150</td>\n",
       "      <td>0.8215</td>\n",
       "    </tr>\n",
       "    <tr>\n",
       "      <th>498</th>\n",
       "      <td>0.025</td>\n",
       "      <td>0.762</td>\n",
       "      <td>0.212</td>\n",
       "      <td>0.9848</td>\n",
       "    </tr>\n",
       "    <tr>\n",
       "      <th>499</th>\n",
       "      <td>0.041</td>\n",
       "      <td>0.904</td>\n",
       "      <td>0.055</td>\n",
       "      <td>0.1280</td>\n",
       "    </tr>\n",
       "    <tr>\n",
       "      <th>500</th>\n",
       "      <td>0.000</td>\n",
       "      <td>0.678</td>\n",
       "      <td>0.322</td>\n",
       "      <td>0.9811</td>\n",
       "    </tr>\n",
       "  </tbody>\n",
       "</table>\n",
       "<p>500 rows × 4 columns</p>\n",
       "</div>"
      ],
      "text/plain": [
       "       neg    neu    pos  compound\n",
       "1    0.000  0.695  0.305    0.9441\n",
       "2    0.079  0.853  0.068   -0.1027\n",
       "3    0.091  0.754  0.155    0.8265\n",
       "4    0.000  1.000  0.000    0.0000\n",
       "5    0.000  0.552  0.448    0.9468\n",
       "..     ...    ...    ...       ...\n",
       "496  0.000  0.554  0.446    0.9725\n",
       "497  0.059  0.791  0.150    0.8215\n",
       "498  0.025  0.762  0.212    0.9848\n",
       "499  0.041  0.904  0.055    0.1280\n",
       "500  0.000  0.678  0.322    0.9811\n",
       "\n",
       "[500 rows x 4 columns]"
      ]
     },
     "execution_count": 11,
     "metadata": {},
     "output_type": "execute_result"
    }
   ],
   "source": [
    "red.T"
   ]
  }
 ],
 "metadata": {
  "kaggle": {
   "accelerator": "none",
   "dataSources": [
    {
     "datasetId": 18,
     "sourceId": 2157,
     "sourceType": "datasetVersion"
    }
   ],
   "dockerImageVersionId": 30918,
   "isGpuEnabled": false,
   "isInternetEnabled": false,
   "language": "python",
   "sourceType": "notebook"
  },
  "kernelspec": {
   "display_name": "Python 3",
   "language": "python",
   "name": "python3"
  },
  "language_info": {
   "codemirror_mode": {
    "name": "ipython",
    "version": 3
   },
   "file_extension": ".py",
   "mimetype": "text/x-python",
   "name": "python",
   "nbconvert_exporter": "python",
   "pygments_lexer": "ipython3",
   "version": "3.10.12"
  },
  "papermill": {
   "default_parameters": {},
   "duration": 14.987139,
   "end_time": "2025-03-09T20:52:28.951043",
   "environment_variables": {},
   "exception": null,
   "input_path": "__notebook__.ipynb",
   "output_path": "__notebook__.ipynb",
   "parameters": {},
   "start_time": "2025-03-09T20:52:13.963904",
   "version": "2.6.0"
  }
 },
 "nbformat": 4,
 "nbformat_minor": 5
}
